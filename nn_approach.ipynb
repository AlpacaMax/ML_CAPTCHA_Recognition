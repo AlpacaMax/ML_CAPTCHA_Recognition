{
 "cells": [
  {
   "cell_type": "markdown",
   "metadata": {},
   "source": [
    "# CAPTCHA Recognition"
   ]
  },
  {
   "cell_type": "code",
   "execution_count": 7,
   "metadata": {},
   "outputs": [],
   "source": [
    "import os\n",
    "import numpy as np\n",
    "from matplotlib import pyplot\n",
    "from matplotlib import image\n",
    "%matplotlib inline\n",
    "\n",
    "import torch\n",
    "import torch.nn as nn\n",
    "import torch.nn.functional as F\n",
    "from torchvision import transforms\n",
    "\n",
    "from PIL import Image"
   ]
  },
  {
   "cell_type": "code",
   "execution_count": 10,
   "metadata": {},
   "outputs": [
    {
     "ename": "ValueError",
     "evalue": "only one element tensors can be converted to Python scalars",
     "output_type": "error",
     "traceback": [
      "\u001b[0;31m---------------------------------------------------------------------------\u001b[0m",
      "\u001b[0;31mValueError\u001b[0m                                Traceback (most recent call last)",
      "\u001b[0;32m/var/folders/8l/czrnygvs4sdcscg095mhct0r0000gn/T/ipykernel_38307/1411304815.py\u001b[0m in \u001b[0;36m<module>\u001b[0;34m\u001b[0m\n\u001b[1;32m      2\u001b[0m \u001b[0mlabels_text\u001b[0m \u001b[0;34m=\u001b[0m \u001b[0mlist\u001b[0m\u001b[0;34m(\u001b[0m\u001b[0mmap\u001b[0m\u001b[0;34m(\u001b[0m\u001b[0;32mlambda\u001b[0m \u001b[0mx\u001b[0m\u001b[0;34m:\u001b[0m \u001b[0mx\u001b[0m\u001b[0;34m.\u001b[0m\u001b[0msplit\u001b[0m\u001b[0;34m(\u001b[0m\u001b[0;34m'.'\u001b[0m\u001b[0;34m)\u001b[0m\u001b[0;34m[\u001b[0m\u001b[0;36m0\u001b[0m\u001b[0;34m]\u001b[0m\u001b[0;34m,\u001b[0m \u001b[0mfilenames\u001b[0m\u001b[0;34m)\u001b[0m\u001b[0;34m)\u001b[0m\u001b[0;34m\u001b[0m\u001b[0;34m\u001b[0m\u001b[0m\n\u001b[1;32m      3\u001b[0m \u001b[0mto_tensor\u001b[0m \u001b[0;34m=\u001b[0m \u001b[0mtransforms\u001b[0m\u001b[0;34m.\u001b[0m\u001b[0mToTensor\u001b[0m\u001b[0;34m(\u001b[0m\u001b[0;34m)\u001b[0m\u001b[0;34m\u001b[0m\u001b[0;34m\u001b[0m\u001b[0m\n\u001b[0;32m----> 4\u001b[0;31m images = torch.tensor(\n\u001b[0m\u001b[1;32m      5\u001b[0m     [\n\u001b[1;32m      6\u001b[0m         to_tensor(\n",
      "\u001b[0;31mValueError\u001b[0m: only one element tensors can be converted to Python scalars"
     ]
    }
   ],
   "source": [
    "filenames = os.listdir('./archive')\n",
    "labels_text = list(map(lambda x: x.split('.')[0], filenames))\n",
    "to_tensor = transforms.ToTensor()\n",
    "images = torch.tensor(\n",
    "    [\n",
    "        to_tensor(\n",
    "            Image.open(f\"./archive/{x}\")\n",
    "        ) for x in filenames\n",
    "    ]\n",
    ")\n",
    "images.shape"
   ]
  },
  {
   "cell_type": "code",
   "execution_count": null,
   "metadata": {},
   "outputs": [],
   "source": [
    "index = 50\n",
    "pyplot.imshow(images[index])\n",
    "pyplot.show()\n",
    "labels_text[index]"
   ]
  },
  {
   "cell_type": "code",
   "execution_count": null,
   "metadata": {},
   "outputs": [],
   "source": [
    "import string\n",
    "\n",
    "alphanumeric = {}\n",
    "\n",
    "i = 0\n",
    "while i < 10:\n",
    "    onehot = [0] * 62\n",
    "    onehot[i] = 1\n",
    "    alphanumeric[str(i)] = onehot\n",
    "    i += 1\n",
    "\n",
    "for c in string.ascii_lowercase:\n",
    "    onehot = [0] * 62\n",
    "    onehot[i] = 1\n",
    "    alphanumeric[c] = onehot\n",
    "    i += 1\n",
    "\n",
    "for c in string.ascii_uppercase:\n",
    "    onehot = [0] * 62\n",
    "    onehot[i] = 1\n",
    "    alphanumeric[c] = onehot\n",
    "    i += 1\n",
    "\n",
    "labels = []\n",
    "for l in labels_text:\n",
    "    label = []\n",
    "    for c in l:\n",
    "        label += alphanumeric[c]\n",
    "    labels.append(label)\n",
    "\n",
    "labels = np.array(labels)\n",
    "labels.shape\n"
   ]
  },
  {
   "cell_type": "code",
   "execution_count": null,
   "metadata": {},
   "outputs": [],
   "source": [
    "class VGG19(nn.Module):\n",
    "    def __init__(self):\n",
    "        self.conv1 = nn.Conv2d(3, 64, kernel_size=3, padding=1)\n",
    "        self.conv2 = nn.Conv2d(64, 64, kernel_size=3, padding=1)\n",
    "\n",
    "        self.conv3 = nn.Conv2d(64, 128, kernel_size=3, padding=1)\n",
    "        self.conv4 = nn.Conv2d(128, 128, kernel_size=3, padding=1)\n",
    "\n",
    "        self.conv5 = nn.Conv2d(128, 256, kernel_size=3, padding=1)\n",
    "        self.conv6 = nn.Conv2d(256, 256, kernel_size=3, padding=1)\n",
    "        self.conv7 = nn.Conv2d(256, 256, kernel_size=3, padding=1)\n",
    "        self.conv8 = nn.Conv2d(256, 256, kernel_size=3, padding=1)\n",
    "\n",
    "        self.conv9 = nn.Conv2d(256, 512, kernel_size=3, padding=1)\n",
    "        self.conv10 = nn.Conv2d(512, 512, kernel_size=3, padding=1)\n",
    "        self.conv11 = nn.Conv2d(512, 512, kernel_size=3, padding=1)\n",
    "        self.conv12 = nn.Conv2d(512, 512, kernel_size=3, padding=1)\n",
    "\n",
    "        self.conv13 = nn.Conv2d(512, 512, kernel_size=3, padding=1)\n",
    "        self.conv14 = nn.Conv2d(512, 512, kernel_size=3, padding=1)\n",
    "        self.conv15 = nn.Conv2d(512, 512, kernel_size=3, padding=1)\n",
    "        self.conv16 = nn.Conv2d(512, 512, kernel_size=3, padding=1)\n",
    "\n",
    "        self.fc1 = nn.Linear(4096, 4096)\n",
    "        self.fc2 = nn.Linear(4096, 4096)\n",
    "        self.fc3 = nn.Linear(4096, 62 * 5)\n",
    "    \n",
    "    def forward(self, x):\n",
    "        out = torch.relu(self.conv1(x))\n",
    "        out = torch.relu(self.conv2(out))\n",
    "        out = F.max_pool2d(out, 2)\n",
    "\n",
    "        out = torch.relu(self.conv3(out))\n",
    "        out = torch.relu(self.conv4(out))\n",
    "        out = F.max_pool2d(out, 2)\n",
    "\n",
    "        out = torch.relu(self.conv5(out))\n",
    "        out = torch.relu(self.conv6(out))\n",
    "        out = torch.relu(self.conv7(out))\n",
    "        out = torch.relu(self.conv8(out))\n",
    "        out = F.max_pool2d(out, 2)\n",
    "\n",
    "        out = torch.relu(self.conv9(out))\n",
    "        out = torch.relu(self.conv10(out))\n",
    "        out = torch.relu(self.conv11(out))\n",
    "        out = torch.relu(self.conv12(out))\n",
    "        out = F.max_pool2d(out, 2)\n",
    "\n",
    "        out = torch.relu(self.conv13(out))\n",
    "        out = torch.relu(self.conv14(out))\n",
    "        out = torch.relu(self.conv15(out))\n",
    "        out = torch.relu(self.conv16(out))\n",
    "        out = F.max_pool2d(out, 2)\n",
    "\n",
    "        out = out.view(-1, 4096)\n",
    "\n",
    "        out = torch.relu(self.fc1(out))\n",
    "        out = torch.relu(self.fc2(out))\n",
    "        out = torch.softmax(self.fc3(out))\n",
    "\n",
    "        return out"
   ]
  },
  {
   "cell_type": "code",
   "execution_count": null,
   "metadata": {},
   "outputs": [],
   "source": []
  }
 ],
 "metadata": {
  "interpreter": {
   "hash": "b0fa6594d8f4cbf19f97940f81e996739fb7646882a419484c72d19e05852a7e"
  },
  "kernelspec": {
   "display_name": "Python 3.9.10 64-bit",
   "language": "python",
   "name": "python3"
  },
  "language_info": {
   "codemirror_mode": {
    "name": "ipython",
    "version": 3
   },
   "file_extension": ".py",
   "mimetype": "text/x-python",
   "name": "python",
   "nbconvert_exporter": "python",
   "pygments_lexer": "ipython3",
   "version": "3.9.10"
  },
  "orig_nbformat": 4
 },
 "nbformat": 4,
 "nbformat_minor": 2
}
