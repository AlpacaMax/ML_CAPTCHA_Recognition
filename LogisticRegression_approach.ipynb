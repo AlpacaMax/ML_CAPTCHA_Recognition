{
 "cells": [
  {
   "cell_type": "code",
   "execution_count": 1,
   "id": "b56c1915",
   "metadata": {},
   "outputs": [],
   "source": [
    "# ML Project Logistic Regression Models\n",
    "\n",
    "import sklearn\n",
    "from sklearn.linear_model import LogisticRegression\n",
    "from sklearn.model_selection import train_test_split \n",
    "import numpy as np\n",
    "\n",
    "import os\n",
    "import os.path\n",
    "import glob\n",
    "from PIL import Image, ImageOps\n",
    "from numpy import asarray\n",
    "import random\n",
    "\n",
    "CAPTCHA_IMAGE_FOLDER = \"datasets\" # the correct folder to store the dataset\n",
    "\n",
    "# Get a list of all the captcha images we need to process\n",
    "captcha_image_files = glob.glob(os.path.join(CAPTCHA_IMAGE_FOLDER, \"*\"))\n",
    "\n",
    "captcha_image_files = random.sample(captcha_image_files, 1000)\n",
    "\n",
    "captchas = []\n",
    "captchas_y = []\n",
    "for captcha_image_file in captcha_image_files:\n",
    "    image = Image.open(captcha_image_file)\n",
    "# #   Feature Transformation 1  \n",
    "# #   shrink the image by 2 horizontally and vertically\n",
    "#     image = image.resize((image.width//2,image.height//2))\n",
    "\n",
    "# #   Feature Transformation 2\n",
    "#     gray_image = ImageOps.grayscale(image)\n",
    "    \n",
    "    data = asarray(image)\n",
    "    data = data.reshape(data.shape[0]*data.shape[1]*3)\n",
    "    captchas.append(data)\n",
    "    captchas_y.append((captcha_image_file.split(\"/\")[1]).split(\".\")[0])\n",
    "captchas = np.array(captchas)\n",
    "captchas_y = np.array(captchas_y)"
   ]
  },
  {
   "cell_type": "code",
   "execution_count": null,
   "id": "3184ad64",
   "metadata": {},
   "outputs": [],
   "source": []
  },
  {
   "cell_type": "code",
   "execution_count": 2,
   "id": "80db9a0c",
   "metadata": {},
   "outputs": [],
   "source": [
    "X_train, X_test, y_train, y_test = \\\n",
    "    train_test_split(captchas, captchas_y, test_size=0.25, random_state=42)"
   ]
  },
  {
   "cell_type": "code",
   "execution_count": null,
   "id": "348b5c8c",
   "metadata": {},
   "outputs": [],
   "source": []
  },
  {
   "cell_type": "code",
   "execution_count": 3,
   "id": "01506e7f",
   "metadata": {},
   "outputs": [],
   "source": [
    "# L1 and L2 regularizations used below\n",
    "def logistic_regression(captchas_train_x, captchas_train_y):\n",
    "    clfs = []\n",
    "    for i in range(5):\n",
    "        print(\"Training the\", i, \"th character's model\")\n",
    "\n",
    "        clfs_i = []\n",
    "        for j,ch in enumerate(\"123456789abcdefghijklmnopqrstuvwxyzABCDEFGHIJKLMNOPQRSTUVWXYZ\"):\n",
    "#             print(\"Training the\", i, \"th character's\", ch,\"model\")\n",
    "\n",
    "            \n",
    "            captchas_y_i_j = np.array([1 if cap[i] == ch else 0 for cap in captchas_train_y])\n",
    "            if(sum(captchas_y_i_j) != 0):\n",
    "#           Try several different regularization techniques below\n",
    "#                 C=0.01, penalty=\"l2\",\n",
    "#                 C=10, penalty='l1',solver=\"liblinear\"\n",
    "#                 penalty='none'\n",
    "                clf = LogisticRegression(C=0.01, penalty='l1',solver=\"liblinear\", random_state=0, max_iter=10000).fit(captchas_train_x, captchas_y_i_j)\n",
    "                clfs_i.append(clf)\n",
    "            else:\n",
    "                clfs_i.append(-1)\n",
    "           \n",
    "            \n",
    "        clfs.append(clfs_i)\n",
    "    return clfs"
   ]
  },
  {
   "cell_type": "code",
   "execution_count": 4,
   "id": "0c51ffe1",
   "metadata": {},
   "outputs": [],
   "source": [
    "def predict(X_train_1, clfs):\n",
    "    likelihood = 0\n",
    "    models = \"123456789abcdefghijklmnopqrstuvwxyzABCDEFGHIJKLMNOPQRSTUVWXYZ\"\n",
    "    y_hat = []\n",
    "    for ith, cap in enumerate(X_train_1):\n",
    "        y_hat_sigomid = []\n",
    "        for i in range(5):\n",
    "            y_hat_sigomid_i = []\n",
    "            for j,ch in enumerate(models):\n",
    "                if clfs[i][j] == -1:\n",
    "                    y_hat_sigomid_i.append(0)\n",
    "                else:\n",
    "                    y_hat_sigomid_i.append(clfs[i][j].predict_proba([cap])[0][1])\n",
    "                    \n",
    "            y_hat_sigomid.append(y_hat_sigomid_i)\n",
    "        \n",
    "        pred = \"\"\n",
    "        for i in range(5):\n",
    "            max_value = max(y_hat_sigomid[i])\n",
    "            index = y_hat_sigomid[i].index(max_value)\n",
    "            pred += models[index]\n",
    "            \n",
    "            likelihood += np.log(max_value) # log likelihood            \n",
    "            \n",
    "        y_hat.append(pred)\n",
    "    return y_hat, likelihood"
   ]
  },
  {
   "cell_type": "code",
   "execution_count": null,
   "id": "a7fa57ba",
   "metadata": {},
   "outputs": [],
   "source": []
  },
  {
   "cell_type": "code",
   "execution_count": 5,
   "id": "5477a36f",
   "metadata": {},
   "outputs": [],
   "source": [
    "def accuracy(y_predicted, y_test):\n",
    "    res = np.where(np.array(y_predicted) == np.array(y_test), 1, 0)\n",
    "    return np.sum(res)/res.shape[0]"
   ]
  },
  {
   "cell_type": "code",
   "execution_count": 6,
   "id": "fe9c7ada",
   "metadata": {
    "scrolled": false
   },
   "outputs": [
    {
     "name": "stdout",
     "output_type": "stream",
     "text": [
      "Training the 0 th character's model\n",
      "Training the 1 th character's model\n",
      "Training the 2 th character's model\n",
      "Training the 3 th character's model\n",
      "Training the 4 th character's model\n"
     ]
    }
   ],
   "source": [
    "# train the model and get coefficients and the intercept\n",
    "clfs = logistic_regression(X_train, y_train)"
   ]
  },
  {
   "cell_type": "code",
   "execution_count": 7,
   "id": "d1bde735",
   "metadata": {},
   "outputs": [
    {
     "name": "stdout",
     "output_type": "stream",
     "text": [
      "The sum of coeff: -16.054795445804512\n",
      "The sum of intercept 0.0\n"
     ]
    }
   ],
   "source": [
    "coeff = 0\n",
    "intercept = 0\n",
    "for i in range(5):\n",
    "    for j in range(61):\n",
    "        if clfs[i][j] != -1:\n",
    "            coeff += sum(clfs[i][j].coef_[0])\n",
    "            intercept += clfs[i][j].intercept_[0]\n",
    "print(\"The sum of coeff:\", coeff)\n",
    "print(\"The sum of intercept\", intercept)"
   ]
  },
  {
   "cell_type": "code",
   "execution_count": 8,
   "id": "4a5a5f2a",
   "metadata": {
    "scrolled": true
   },
   "outputs": [
    {
     "name": "stdout",
     "output_type": "stream",
     "text": [
      "accuracy 1.0\n",
      "likelihood on the training set -884.9291212926576\n"
     ]
    }
   ],
   "source": [
    "y_hat_train, likelihood_train = predict(X_train, clfs)\n",
    "print(\"accuracy\", accuracy(y_hat_train, y_train))\n",
    "print(\"likelihood on the training set\", likelihood_train)"
   ]
  },
  {
   "cell_type": "code",
   "execution_count": 9,
   "id": "ca73b5f9",
   "metadata": {},
   "outputs": [
    {
     "data": {
      "text/plain": [
       "0.0"
      ]
     },
     "execution_count": 9,
     "metadata": {},
     "output_type": "execute_result"
    }
   ],
   "source": [
    "y_hat, likelihood_test = predict(X_test, clfs)\n",
    "accuracy(y_hat, y_test)"
   ]
  },
  {
   "cell_type": "code",
   "execution_count": null,
   "id": "a79ff90a",
   "metadata": {},
   "outputs": [],
   "source": []
  }
 ],
 "metadata": {
  "kernelspec": {
   "display_name": "Python 3 (ipykernel)",
   "language": "python",
   "name": "python3"
  },
  "language_info": {
   "codemirror_mode": {
    "name": "ipython",
    "version": 3
   },
   "file_extension": ".py",
   "mimetype": "text/x-python",
   "name": "python",
   "nbconvert_exporter": "python",
   "pygments_lexer": "ipython3",
   "version": "3.9.7"
  }
 },
 "nbformat": 4,
 "nbformat_minor": 5
}
